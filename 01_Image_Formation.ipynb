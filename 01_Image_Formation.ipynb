{
 "cells": [
  {
   "cell_type": "markdown",
   "metadata": {},
   "source": [
    "# Pinhole Camera Model Practice Questions"
   ]
  },
  {
   "cell_type": "markdown",
   "metadata": {},
   "source": [
    "## Question 1: Perspective Projection"
   ]
  },
  {
   "cell_type": "markdown",
   "metadata": {},
   "source": [
    "A 3D point in the camera coordinate system is given by `p_c = [10, 5, 20]`. \n",
    "The camera has a focal length `f` of 50mm. \n",
    "Calculate the position of the projection of this point on the image plane in meters."
   ]
  },
  {
   "cell_type": "code",
   "execution_count": null,
   "metadata": {},
   "outputs": [],
   "source": [
    "import numpy as np\n",
    "p_c = np.array([10,5,20])\n",
    "f = 0.05\n",
    "proj_x = f * p_c[0] / p_c[2]\n",
    "proj_y = f * p_c[1] / p_c[2]\n",
    "\n",
    "print([[proj_x], [proj_y]])"
   ]
  },
  {
   "cell_type": "markdown",
   "metadata": {},
   "source": [
    "---"
   ]
  },
  {
   "cell_type": "markdown",
   "metadata": {},
   "source": [
    "## Question 2: Conversion to Pixels"
   ]
  },
  {
   "cell_type": "markdown",
   "metadata": {},
   "source": [
    "Given the projected point from Question 1, convert its coordinates from meters to pixels. \n",
    "Assume the following intrinsic parameters: \n",
    "- `s_x` = 800 pixels/meter\n",
    "- `s_y` = 800 pixels/meter\n",
    "- `o_x` = 320 pixels\n",
    "- `o_y` = 240 pixels\n",
    "What are the pixel coordinates `(u^I, v^I)`?"
   ]
  },
  {
   "cell_type": "code",
   "execution_count": null,
   "metadata": {},
   "outputs": [],
   "source": [
    "import numpy as np\n",
    "p_c = np.array([10,5,20])\n",
    "f = 0.05\n",
    "proj_x = f * p_c[0] / p_c[2]\n",
    "proj_y = f * p_c[1] / p_c[2]\n",
    "\n",
    "proj_px = ([[proj_x], [proj_y]])\n",
    "\n",
    "s_x = 800 \n",
    "s_y = 800\n",
    "o_x = 320  \n",
    "o_y = 240\n",
    "\n",
    "u_i = s_x * proj_x + o_x\n",
    "v_i = s_y * proj_y + o_y\n",
    "\n",
    "print([[u_i], [v_i]])"
   ]
  },
  {
   "cell_type": "markdown",
   "metadata": {},
   "source": [
    "---"
   ]
  },
  {
   "cell_type": "markdown",
   "metadata": {},
   "source": [
    "## Question 3: Intrinsic Matrix"
   ]
  },
  {
   "cell_type": "markdown",
   "metadata": {},
   "source": [
    "Construct the intrinsic calibration matrix `K` using the parameters from Question 2, assuming no skew (`s_θ = 0`)."
   ]
  },
  {
   "cell_type": "code",
   "execution_count": null,
   "metadata": {},
   "outputs": [],
   "source": [
    "import numpy as np\n",
    "p_c = np.array([10,5,20])\n",
    "f = 0.05\n",
    "proj_x = f * p_c[0] / p_c[2]\n",
    "proj_y = f * p_c[1] / p_c[2]\n",
    "\n",
    "proj_px = ([[proj_x], [proj_y]])\n",
    "\n",
    "s_x = 800 \n",
    "s_y = 800\n",
    "o_x = 320  \n",
    "o_y = 240\n",
    "\n",
    "u_i = s_x * proj_x + o_x\n",
    "v_i = s_y * proj_y + o_y\n",
    "\n",
    "proj_meters = ([[u_i], [v_i]])\n",
    "\n",
    "f_x = s_x * f\n",
    "f_y = s_y * f\n",
    "\n",
    "k = np.array([[s_x * f, 0, o_x], [0, s_y * f, o_y], [0, 0, 1]])\n",
    "print(k)"
   ]
  },
  {
   "cell_type": "markdown",
   "metadata": {},
   "source": [
    "---"
   ]
  },
  {
   "cell_type": "markdown",
   "metadata": {},
   "source": [
    "## Question 4: Point Projection with Known Pose"
   ]
  },
  {
   "cell_type": "markdown",
   "metadata": {},
   "source": [
    "A point in the world frame is given by `p_w = [2, 3, 50]`. The camera's pose `T_w^c` is given by an identity rotation matrix and a translation vector `t_w^c = [0, 0, 10]`. [cite_start]Using the intrinsic matrix `K` from Question 3, calculate the pixel coordinates of the projected point. [cite: 14, 16, 17]"
   ]
  },
  {
   "cell_type": "code",
   "execution_count": null,
   "metadata": {},
   "outputs": [],
   "source": [
    "R = np.eye(3)\n",
    "t_c = np.array([[0], [0], [10]])\n",
    "ex_matrix = np.hstack([R, t_c])\n",
    "p_w = ([2], [3], [50], [1])\n",
    "exandin = k @ ex_matrix\n",
    "leftside = k @ ex_matrix @ p_w\n",
    "print(leftside)\n",
    "pixel_coords = leftside[:2] / leftside[2]\n",
    "\n",
    "print(pixel_coords.flatten())"
   ]
  },
  {
   "cell_type": "markdown",
   "metadata": {},
   "source": [
    "---"
   ]
  },
  {
   "cell_type": "markdown",
   "metadata": {},
   "source": [
    "## Question 5: Radial Distortion"
   ]
  },
  {
   "cell_type": "markdown",
   "metadata": {},
   "source": [
    "A point is projected on the image plane at `(u_distort^I, v_distort^I) = (400, 350)` including radial distortion. Given distortion coefficients `a1 = 0.0001` and `a2 = 0.0000002` and the principal point `(o_x, o_y) = (320, 240)`, calculate the corrected pixel coordinates `(u^I, v^I)`."
   ]
  },
  {
   "cell_type": "code",
   "execution_count": null,
   "metadata": {},
   "outputs": [],
   "source": [
    "(u_distort_I, v_distort_I) = (400,350)\n",
    "a1 = 0.0001\n",
    "a2 = 0.0000002\n",
    "(o_x, o_y) = (320, 240)\n",
    "r_sq = (u_distort_I - o_x)**2 + (v_distort_I - o_y)**2\n",
    "u_I = (1 + a1*r_sq + a2*(r_sq**2))*(u_distort_I - o_x) + o_x\n",
    "v_I = (1 + a1*r_sq + a2*(r_sq**2))*(v_distort_I - o_y) + o_y\n",
    "print(u_I, v_I)"
   ]
  }
 ],
 "metadata": {
  "kernelspec": {
   "display_name": "Python 3",
   "language": "python",
   "name": "python3"
  },
  "language_info": {
   "codemirror_mode": {
    "name": "ipython",
    "version": 3
   },
   "file_extension": ".py",
   "mimetype": "text/x-python",
   "name": "python",
   "nbconvert_exporter": "python",
   "pygments_lexer": "ipython3",
   "version": "3.10.6"
  }
 },
 "nbformat": 4,
 "nbformat_minor": 4
}
